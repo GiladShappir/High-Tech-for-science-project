{
  "cells": [
    {
      "cell_type": "code",
      "execution_count": null,
      "metadata": {
        "collapsed": true,
        "pycharm": {
          "name": "#%%\n"
        },
        "id": "2mh4Npk6OaJe"
      },
      "outputs": [],
      "source": [
        "import numpy as np\n",
        "\n",
        "def trend_sliding_window(data, window_size, horizon):\n",
        "    \"\"\"\n",
        "    Create input/output pairs for trend prediction using a sliding window approach.\n",
        "    Args:\n",
        "        data (array-like): The time series data.\n",
        "        window_size (int): The size of the sliding window.\n",
        "        horizon (int): The prediction horizon indicating how many steps ahead to predict.\n",
        "\n",
        "    Returns:\n",
        "        tuple: A tuple containing the input sequences (X) and the corresponding output values (y).\n",
        "    \"\"\"\n",
        "    X, y = [], []\n",
        "    for i in range(len(data) - window_size - horizon ):\n",
        "        input_window = data[i:i+window_size]\n",
        "        X.append(input_window)      # Input Sequence\n",
        "        output_window = data[ i + window_size  : i + window_size  + horizon]\n",
        "        trend_value   = data[ i + window_size - 1  + horizon] - data[ i + window_size + 1]\n",
        "        y.append(output_window)     # Output Sequence\n",
        "    return np.array(X), np.array(y)\n",
        "\n",
        "\n",
        "def sliding_window_th(data, window_size, horizon, th ):\n",
        "    X, y = [], []\n",
        "    for i in range(len(data) - window_size - horizon ):\n",
        "        input_window = data[i:i+window_size]\n",
        "        trend_value  = data[ i + window_size + horizon - 1 ] - data[ i + window_size - 1]\n",
        "        if ( trend_value > th):\n",
        "          y_trend =  1\n",
        "        elif ( trend_value < -1*th):\n",
        "          y_trend = -1\n",
        "        else:\n",
        "          y_trend = 0\n",
        "        X.append(input_window)      # Input Sequence\n",
        "        y.append(y_trend)     # Output Sequence\n",
        "    return np.array(X), np.array(y)\n",
        "\n",
        "\n",
        "\n",
        "####\n",
        "\n"
      ]
    },
    {
      "cell_type": "code",
      "execution_count": null,
      "outputs": [],
      "source": [
        "W  = 10  # input window\n",
        "H  = 1   # future window , check H  = 1\n",
        "th = 0.5\n",
        "ts_data =  np.arange(100) #\n",
        "##\n",
        "X , Y         = trend_sliding_window(ts_data, W, H  ) # normal sliding window\n",
        "X_th , Y_th   = sliding_window_th   (ts_data, W, H , th ) # threshold sliding window\n",
        "\n",
        "\n",
        "# trend_window_th =\n"
      ],
      "metadata": {
        "pycharm": {
          "name": "#%%\n"
        },
        "id": "LlavwN2ROaJl"
      }
    },
    {
      "cell_type": "code",
      "execution_count": null,
      "outputs": [],
      "source": [
        "print_op = 'th' # th , reg\n",
        "## regular sliding window\n",
        "print('ts example:' , ts_data[:30], 'method' , print_op)\n",
        "\n",
        "if print_op == 'reg':\n",
        "  X_sample , Y_sample = X, Y\n",
        "if print_op == 'th':\n",
        "  X_sample , Y_sample = X_th, Y_th\n",
        "\n",
        "index = 0\n",
        "for x,y in zip(X_sample , Y_sample):\n",
        "  print(f'####### time step: {index} ######')\n",
        "  print('input:' , x )\n",
        "  print('output:', y)\n",
        "  if index > 10:\n",
        "    break\n",
        "  index +=1\n"
      ],
      "metadata": {
        "pycharm": {
          "name": "#%%\n"
        },
        "id": "yYChiqzrOaJl"
      }
    },
    {
      "cell_type": "code",
      "execution_count": null,
      "outputs": [],
      "source": [
        "## example : create ouptuts for diff threshold values\n",
        "y_th_arr = []\n",
        "th_arr = np.arange(0,5,0.1)\n",
        "for th in th_arr:\n",
        "  y_th = sliding_window_th(ts_data, W, H , th )[1]\n",
        "  y_th_arr.append(y_th)\n"
      ],
      "metadata": {
        "pycharm": {
          "name": "#%%\n"
        },
        "id": "t5yFXsKOOaJm"
      }
    },
    {
      "cell_type": "code",
      "execution_count": null,
      "outputs": [],
      "source": [
        "## full example: grid search over W , H , th\n",
        "W_max  =  60\n",
        "W_step =  3 # min W = 1\n",
        "H_max  =  30\n",
        "H_step =  2 # min H = 1\n",
        "th_max =  10\n",
        "th_step = 0.5\n",
        "y_th_arr = []\n",
        "X_arr_W    = []\n",
        "Y_arr_H    = []\n",
        "Y_arr_H_step    = []\n",
        "\n",
        "### Optimize over Validation dataset: Creating grid arrays\n",
        "for h in range(1,H_max,H_step):\n",
        "  for w in range(1,W_max,W_step):\n",
        "    for th in (1, th_max , th_step):\n",
        "      pass #  complete the code: three loops over W, H , th\n",
        "\n"
      ],
      "metadata": {
        "pycharm": {
          "name": "#%%\n"
        },
        "id": "tyT8CedfOaJn"
      }
    },
    {
      "cell_type": "code",
      "source": [
        "import numpy as np\n",
        "\n",
        "def weighted_accuracy(y_true, y_pred):\n",
        "    # Total number of samples\n",
        "    L = len(y_true)\n",
        "    # Number of samples where y_i = 0\n",
        "    S = np.sum(np.array(y_true) == 0)\n",
        "\n",
        "    # Weight for class 0\n",
        "    weight_0 = (L - S) / L if S != 0 else 1\n",
        "\n",
        "    # Initialize variables for correct classifications\n",
        "    correct_classifications = 0\n",
        "\n",
        "    # Iterate through true and predicted labels\n",
        "    for yt, yp in zip(y_true, y_pred):\n",
        "        # If the labels match\n",
        "        if yt == yp:\n",
        "            # If the label is 0, apply the custom weight\n",
        "            if yt == 0:\n",
        "                correct_classifications += weight_0\n",
        "            # If the label is 1 or -1, apply a weight of 1\n",
        "            else:\n",
        "                correct_classifications += 1\n",
        "\n",
        "    # Compute the final weighted accuracy\n",
        "    accuracy = correct_classifications / L\n",
        "\n",
        "    return accuracy\n"
      ],
      "metadata": {
        "id": "7nogn6apOczq"
      },
      "execution_count": null,
      "outputs": []
    },
    {
      "cell_type": "code",
      "source": [
        "### Example if working with tensorflow:\n",
        "\n",
        "import tensorflow as tf\n",
        "\n",
        "def weighted_loss(y_true, y_pred):\n",
        "    # Determine the total number of samples (L) and the count of zeros (S)\n",
        "    L = tf.shape(y_true)[0]\n",
        "    S = tf.reduce_sum(tf.cast(tf.equal(y_true, 0), tf.float32))\n",
        "\n",
        "    # Weight for class 0\n",
        "    weight_0 = (L - S) / L if S != 0 else 1\n",
        "\n",
        "    # Calculate the weights for each element\n",
        "    weights = tf.where(tf.equal(y_true, 0), weight_0, 1.0)\n",
        "\n",
        "    # Calculate the standard binary cross-entropy loss\n",
        "    standard_loss = tf.keras.losses.binary_crossentropy(y_true, y_pred)\n",
        "\n",
        "    # Apply the weights\n",
        "    weighted_loss = weights * standard_loss\n",
        "\n",
        "    # Return the mean loss\n",
        "    return tf.reduce_mean(weighted_loss)\n",
        "\n",
        "# Define your model as usual\n",
        "model = tf.keras.Sequential([\n",
        "    # ... your layers here ...\n",
        "])\n",
        "\n",
        "# Compile the model with the custom loss function\n",
        "# model.compile(optimizer='adam', loss=weighted_loss, metrics=['accuracy'])\n",
        "\n",
        "# Train the model\n",
        "# model.fit(x_train, y_train, epochs=5)\n"
      ],
      "metadata": {
        "id": "cx_2WbmjOmfu"
      },
      "execution_count": null,
      "outputs": []
    }
  ],
  "metadata": {
    "kernelspec": {
      "display_name": "Python 3",
      "language": "python",
      "name": "python3"
    },
    "language_info": {
      "codemirror_mode": {
        "name": "ipython",
        "version": 2
      },
      "file_extension": ".py",
      "mimetype": "text/x-python",
      "name": "python",
      "nbconvert_exporter": "python",
      "pygments_lexer": "ipython2",
      "version": "2.7.6"
    },
    "colab": {
      "provenance": []
    }
  },
  "nbformat": 4,
  "nbformat_minor": 0
}