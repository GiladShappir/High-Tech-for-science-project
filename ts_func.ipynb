{
 "cells": [
  {
   "cell_type": "code",
   "execution_count": null,
   "metadata": {
    "collapsed": true,
    "pycharm": {
     "name": "#%%\n"
    }
   },
   "outputs": [],
   "source": [
    "import numpy as np\n",
    "\n",
    "def trend_sliding_window(data, window_size, horizon):\n",
    "    \"\"\"\n",
    "    Create input/output pairs for trend prediction using a sliding window approach.\n",
    "    Args:\n",
    "        data (array-like): The time series data.\n",
    "        window_size (int): The size of the sliding window.\n",
    "        horizon (int): The prediction horizon indicating how many steps ahead to predict.\n",
    "\n",
    "    Returns:\n",
    "        tuple: A tuple containing the input sequences (X) and the corresponding output values (y).\n",
    "    \"\"\"\n",
    "    X, y = [], []\n",
    "    for i in range(len(data) - window_size - horizon ):\n",
    "        input_window = data[i:i+window_size]\n",
    "        X.append(input_window)      # Input Sequence\n",
    "        output_window = data[ i + window_size  : i + window_size  + horizon]\n",
    "        trend_value   = data[ i + window_size - 1  + horizon] - data[ i + window_size + 1]\n",
    "        y.append(output_window)     # Output Sequence\n",
    "    return np.array(X), np.array(y)\n",
    "\n",
    "\n",
    "def sliding_window_th(data, window_size, horizon, th ):\n",
    "    X, y = [], []\n",
    "    for i in range(len(data) - window_size - horizon ):\n",
    "        input_window = data[i:i+window_size]\n",
    "        trend_value  = data[ i + window_size + horizon - 1 ] - data[ i + window_size - 1]\n",
    "        if ( trend_value > th):\n",
    "          y_trend =  1\n",
    "        elif ( trend_value < -1*th):\n",
    "          y_trend = -1\n",
    "        else:\n",
    "          y_trend = 0\n",
    "        X.append(input_window)      # Input Sequence\n",
    "        y.append(y_trend)     # Output Sequence\n",
    "    return np.array(X), np.array(y)\n",
    "\n",
    "\n",
    "\n",
    "####\n",
    "\n"
   ]
  },
  {
   "cell_type": "code",
   "execution_count": null,
   "outputs": [],
   "source": [
    "W  = 10  # input window\n",
    "H  = 1   # future window , check H  = 1\n",
    "th = 0.5\n",
    "ts_data =  np.arange(100) #\n",
    "##\n",
    "X , Y         = trend_sliding_window(ts_data, W, H  ) # normal sliding window\n",
    "X_th , Y_th   = sliding_window_th   (ts_data, W, H , th ) # threshold sliding window\n",
    "\n",
    "\n",
    "# trend_window_th =\n"
   ],
   "metadata": {
    "collapsed": false,
    "pycharm": {
     "name": "#%%\n"
    }
   }
  },
  {
   "cell_type": "code",
   "execution_count": null,
   "outputs": [],
   "source": [
    "print_op = 'th' # th , reg\n",
    "## regular sliding window\n",
    "print('ts example:' , ts_data[:30], 'method' , print_op)\n",
    "\n",
    "if print_op == 'reg':\n",
    "  X_sample , Y_sample = X, Y\n",
    "if print_op == 'th':\n",
    "  X_sample , Y_sample = X_th, Y_th\n",
    "\n",
    "index = 0\n",
    "for x,y in zip(X_sample , Y_sample):\n",
    "  print(f'####### time step: {index} ######')\n",
    "  print('input:' , x )\n",
    "  print('output:', y)\n",
    "  if index > 10:\n",
    "    break\n",
    "  index +=1\n"
   ],
   "metadata": {
    "collapsed": false,
    "pycharm": {
     "name": "#%%\n"
    }
   }
  },
  {
   "cell_type": "code",
   "execution_count": null,
   "outputs": [],
   "source": [
    "## example : create ouptuts for diff threshold values\n",
    "y_th_arr = []\n",
    "th_arr = np.arange(0,5,0.1)\n",
    "for th in th_arr:\n",
    "  y_th = sliding_window_th(ts_data, W, H , th )[1]\n",
    "  y_th_arr.append(y_th)\n"
   ],
   "metadata": {
    "collapsed": false,
    "pycharm": {
     "name": "#%%\n"
    }
   }
  },
  {
   "cell_type": "code",
   "execution_count": null,
   "outputs": [],
   "source": [
    "## full example: grid search over W , H , th\n",
    "W_max  =  60\n",
    "W_step =  3 # min W = 1\n",
    "H_max  =  30\n",
    "H_step =  2 # min H = 1\n",
    "th_max =  10\n",
    "th_step = 0.5\n",
    "y_th_arr = []\n",
    "X_arr_W    = []\n",
    "Y_arr_H    = []\n",
    "Y_arr_H_step    = []\n",
    "\n",
    "### Optimize over Validation dataset: Creating grid arrays\n",
    "for h in range(1,H_max,H_step):\n",
    "  for w in range(1,W_max,W_step):\n",
    "    for th in (1, th_max , th_step):\n",
    "      pass #  complete the code: three loops over W, H , th\n",
    "\n"
   ],
   "metadata": {
    "collapsed": false,
    "pycharm": {
     "name": "#%%\n"
    }
   }
  }
 ],
 "metadata": {
  "kernelspec": {
   "display_name": "Python 3",
   "language": "python",
   "name": "python3"
  },
  "language_info": {
   "codemirror_mode": {
    "name": "ipython",
    "version": 2
   },
   "file_extension": ".py",
   "mimetype": "text/x-python",
   "name": "python",
   "nbconvert_exporter": "python",
   "pygments_lexer": "ipython2",
   "version": "2.7.6"
  }
 },
 "nbformat": 4,
 "nbformat_minor": 0
}